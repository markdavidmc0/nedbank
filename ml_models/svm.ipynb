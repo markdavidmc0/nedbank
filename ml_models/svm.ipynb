{
 "cells": [
  {
   "cell_type": "markdown",
   "metadata": {},
   "source": [
    "# SVM Model Creation for Sales Target Classification\n",
    "\n",
    "The purpose of the model is a simple implmentation of a support vector machine to predict likelihood of product acceptance, based on customer and call data. Neither feature engineering to improve model fit was considered, nor sampling to improve model balancing.\n",
    "\n",
    "### Import Packages"
   ]
  },
  {
   "cell_type": "code",
   "execution_count": 88,
   "metadata": {},
   "outputs": [],
   "source": [
    "import pandas as pd\n",
    "import numpy as np\n",
    "import matplotlib.pyplot as plt\n",
    "from scipy import stats\n",
    "import seaborn as sns; sns.set()\n",
    "from sklearn.model_selection import train_test_split\n",
    "import matplotlib.pyplot as plt "
   ]
  },
  {
   "cell_type": "markdown",
   "metadata": {},
   "source": [
    "### Load Data"
   ]
  },
  {
   "cell_type": "code",
   "execution_count": 89,
   "metadata": {},
   "outputs": [
    {
     "name": "stdout",
     "output_type": "stream",
     "text": [
      "(4521, 17)\n",
      "['age', 'job', 'marital', 'education', 'default', 'balance', 'housing', 'loan', 'contact', 'day', 'month', 'duration', 'campaign', 'pdays', 'previous', 'poutcome', 'target']\n"
     ]
    }
   ],
   "source": [
    "data = pd.read_csv('bank_marketing_data.csv', delimiter=';', header=0)\n",
    "data = data.dropna()\n",
    "print(data.shape)\n",
    "print(list(data.columns))"
   ]
  },
  {
   "cell_type": "markdown",
   "metadata": {},
   "source": [
    "### Data Metrics"
   ]
  },
  {
   "cell_type": "code",
   "execution_count": 3,
   "metadata": {},
   "outputs": [
    {
     "data": {
      "text/html": [
       "<div>\n",
       "<style scoped>\n",
       "    .dataframe tbody tr th:only-of-type {\n",
       "        vertical-align: middle;\n",
       "    }\n",
       "\n",
       "    .dataframe tbody tr th {\n",
       "        vertical-align: top;\n",
       "    }\n",
       "\n",
       "    .dataframe thead th {\n",
       "        text-align: right;\n",
       "    }\n",
       "</style>\n",
       "<table border=\"1\" class=\"dataframe\">\n",
       "  <thead>\n",
       "    <tr style=\"text-align: right;\">\n",
       "      <th></th>\n",
       "      <th>age</th>\n",
       "      <th>job</th>\n",
       "      <th>marital</th>\n",
       "      <th>education</th>\n",
       "      <th>default</th>\n",
       "      <th>balance</th>\n",
       "      <th>housing</th>\n",
       "      <th>loan</th>\n",
       "      <th>contact</th>\n",
       "      <th>day</th>\n",
       "      <th>month</th>\n",
       "      <th>duration</th>\n",
       "      <th>campaign</th>\n",
       "      <th>pdays</th>\n",
       "      <th>previous</th>\n",
       "      <th>poutcome</th>\n",
       "      <th>target</th>\n",
       "    </tr>\n",
       "  </thead>\n",
       "  <tbody>\n",
       "    <tr>\n",
       "      <th>0</th>\n",
       "      <td>30</td>\n",
       "      <td>unemployed</td>\n",
       "      <td>married</td>\n",
       "      <td>primary</td>\n",
       "      <td>no</td>\n",
       "      <td>1787</td>\n",
       "      <td>no</td>\n",
       "      <td>no</td>\n",
       "      <td>cellular</td>\n",
       "      <td>19</td>\n",
       "      <td>oct</td>\n",
       "      <td>79</td>\n",
       "      <td>1</td>\n",
       "      <td>-1</td>\n",
       "      <td>0</td>\n",
       "      <td>unknown</td>\n",
       "      <td>no</td>\n",
       "    </tr>\n",
       "    <tr>\n",
       "      <th>1</th>\n",
       "      <td>33</td>\n",
       "      <td>services</td>\n",
       "      <td>married</td>\n",
       "      <td>secondary</td>\n",
       "      <td>no</td>\n",
       "      <td>4789</td>\n",
       "      <td>yes</td>\n",
       "      <td>yes</td>\n",
       "      <td>cellular</td>\n",
       "      <td>11</td>\n",
       "      <td>may</td>\n",
       "      <td>220</td>\n",
       "      <td>1</td>\n",
       "      <td>339</td>\n",
       "      <td>4</td>\n",
       "      <td>failure</td>\n",
       "      <td>no</td>\n",
       "    </tr>\n",
       "    <tr>\n",
       "      <th>2</th>\n",
       "      <td>35</td>\n",
       "      <td>management</td>\n",
       "      <td>single</td>\n",
       "      <td>tertiary</td>\n",
       "      <td>no</td>\n",
       "      <td>1350</td>\n",
       "      <td>yes</td>\n",
       "      <td>no</td>\n",
       "      <td>cellular</td>\n",
       "      <td>16</td>\n",
       "      <td>apr</td>\n",
       "      <td>185</td>\n",
       "      <td>1</td>\n",
       "      <td>330</td>\n",
       "      <td>1</td>\n",
       "      <td>failure</td>\n",
       "      <td>no</td>\n",
       "    </tr>\n",
       "    <tr>\n",
       "      <th>3</th>\n",
       "      <td>30</td>\n",
       "      <td>management</td>\n",
       "      <td>married</td>\n",
       "      <td>tertiary</td>\n",
       "      <td>no</td>\n",
       "      <td>1476</td>\n",
       "      <td>yes</td>\n",
       "      <td>yes</td>\n",
       "      <td>unknown</td>\n",
       "      <td>3</td>\n",
       "      <td>jun</td>\n",
       "      <td>199</td>\n",
       "      <td>4</td>\n",
       "      <td>-1</td>\n",
       "      <td>0</td>\n",
       "      <td>unknown</td>\n",
       "      <td>no</td>\n",
       "    </tr>\n",
       "    <tr>\n",
       "      <th>4</th>\n",
       "      <td>59</td>\n",
       "      <td>blue-collar</td>\n",
       "      <td>married</td>\n",
       "      <td>secondary</td>\n",
       "      <td>no</td>\n",
       "      <td>0</td>\n",
       "      <td>yes</td>\n",
       "      <td>no</td>\n",
       "      <td>unknown</td>\n",
       "      <td>5</td>\n",
       "      <td>may</td>\n",
       "      <td>226</td>\n",
       "      <td>1</td>\n",
       "      <td>-1</td>\n",
       "      <td>0</td>\n",
       "      <td>unknown</td>\n",
       "      <td>no</td>\n",
       "    </tr>\n",
       "  </tbody>\n",
       "</table>\n",
       "</div>"
      ],
      "text/plain": [
       "   age          job  marital  education default  balance housing loan  \\\n",
       "0   30   unemployed  married    primary      no     1787      no   no   \n",
       "1   33     services  married  secondary      no     4789     yes  yes   \n",
       "2   35   management   single   tertiary      no     1350     yes   no   \n",
       "3   30   management  married   tertiary      no     1476     yes  yes   \n",
       "4   59  blue-collar  married  secondary      no        0     yes   no   \n",
       "\n",
       "    contact  day month  duration  campaign  pdays  previous poutcome target  \n",
       "0  cellular   19   oct        79         1     -1         0  unknown     no  \n",
       "1  cellular   11   may       220         1    339         4  failure     no  \n",
       "2  cellular   16   apr       185         1    330         1  failure     no  \n",
       "3   unknown    3   jun       199         4     -1         0  unknown     no  \n",
       "4   unknown    5   may       226         1     -1         0  unknown     no  "
      ]
     },
     "execution_count": 3,
     "metadata": {},
     "output_type": "execute_result"
    }
   ],
   "source": [
    "data.head()"
   ]
  },
  {
   "cell_type": "code",
   "execution_count": 4,
   "metadata": {},
   "outputs": [
    {
     "data": {
      "text/plain": [
       "no     4000\n",
       "yes     521\n",
       "Name: target, dtype: int64"
      ]
     },
     "execution_count": 4,
     "metadata": {},
     "output_type": "execute_result"
    }
   ],
   "source": [
    "data['target'].value_counts()"
   ]
  },
  {
   "cell_type": "code",
   "execution_count": 5,
   "metadata": {},
   "outputs": [
    {
     "data": {
      "text/html": [
       "<div>\n",
       "<style scoped>\n",
       "    .dataframe tbody tr th:only-of-type {\n",
       "        vertical-align: middle;\n",
       "    }\n",
       "\n",
       "    .dataframe tbody tr th {\n",
       "        vertical-align: top;\n",
       "    }\n",
       "\n",
       "    .dataframe thead th {\n",
       "        text-align: right;\n",
       "    }\n",
       "</style>\n",
       "<table border=\"1\" class=\"dataframe\">\n",
       "  <thead>\n",
       "    <tr style=\"text-align: right;\">\n",
       "      <th></th>\n",
       "      <th>age</th>\n",
       "      <th>balance</th>\n",
       "      <th>day</th>\n",
       "      <th>duration</th>\n",
       "      <th>campaign</th>\n",
       "      <th>pdays</th>\n",
       "      <th>previous</th>\n",
       "    </tr>\n",
       "    <tr>\n",
       "      <th>target</th>\n",
       "      <th></th>\n",
       "      <th></th>\n",
       "      <th></th>\n",
       "      <th></th>\n",
       "      <th></th>\n",
       "      <th></th>\n",
       "      <th></th>\n",
       "    </tr>\n",
       "  </thead>\n",
       "  <tbody>\n",
       "    <tr>\n",
       "      <th>no</th>\n",
       "      <td>40.998000</td>\n",
       "      <td>1403.211750</td>\n",
       "      <td>15.948750</td>\n",
       "      <td>226.347500</td>\n",
       "      <td>2.862250</td>\n",
       "      <td>36.006000</td>\n",
       "      <td>0.471250</td>\n",
       "    </tr>\n",
       "    <tr>\n",
       "      <th>yes</th>\n",
       "      <td>42.491363</td>\n",
       "      <td>1571.955854</td>\n",
       "      <td>15.658349</td>\n",
       "      <td>552.742802</td>\n",
       "      <td>2.266795</td>\n",
       "      <td>68.639155</td>\n",
       "      <td>1.090211</td>\n",
       "    </tr>\n",
       "  </tbody>\n",
       "</table>\n",
       "</div>"
      ],
      "text/plain": [
       "              age      balance        day    duration  campaign      pdays  \\\n",
       "target                                                                       \n",
       "no      40.998000  1403.211750  15.948750  226.347500  2.862250  36.006000   \n",
       "yes     42.491363  1571.955854  15.658349  552.742802  2.266795  68.639155   \n",
       "\n",
       "        previous  \n",
       "target            \n",
       "no      0.471250  \n",
       "yes     1.090211  "
      ]
     },
     "execution_count": 5,
     "metadata": {},
     "output_type": "execute_result"
    }
   ],
   "source": [
    "data.groupby('target').mean()"
   ]
  },
  {
   "cell_type": "markdown",
   "metadata": {},
   "source": [
    "### Covert Categories to Numeric"
   ]
  },
  {
   "cell_type": "code",
   "execution_count": 90,
   "metadata": {},
   "outputs": [],
   "source": [
    "cat_vars=['job','marital','education','default','housing','loan','contact','month','poutcome']\n",
    "for var in cat_vars:\n",
    "    cat_list = pd.get_dummies(data[var], prefix=var)\n",
    "    data1=pd.concat([data, cat_list],axis=1)\n",
    "    data=data1\n",
    "    \n",
    "data_vars=data.columns.values.tolist()"
   ]
  },
  {
   "cell_type": "markdown",
   "metadata": {},
   "source": [
    "### Remove Non-Numeric Categories and Convert y to Numeric"
   ]
  },
  {
   "cell_type": "code",
   "execution_count": 92,
   "metadata": {},
   "outputs": [
    {
     "data": {
      "text/plain": [
       "array(['age', 'balance', 'day', 'duration', 'campaign', 'pdays',\n",
       "       'previous', 'target', 'job_admin.', 'job_blue-collar',\n",
       "       'job_entrepreneur', 'job_housemaid', 'job_management',\n",
       "       'job_retired', 'job_self-employed', 'job_services', 'job_student',\n",
       "       'job_technician', 'job_unemployed', 'job_unknown',\n",
       "       'marital_divorced', 'marital_married', 'marital_single',\n",
       "       'education_primary', 'education_secondary', 'education_tertiary',\n",
       "       'education_unknown', 'default_no', 'default_yes', 'housing_no',\n",
       "       'housing_yes', 'loan_no', 'loan_yes', 'contact_cellular',\n",
       "       'contact_telephone', 'contact_unknown', 'month_apr', 'month_aug',\n",
       "       'month_dec', 'month_feb', 'month_jan', 'month_jul', 'month_jun',\n",
       "       'month_mar', 'month_may', 'month_nov', 'month_oct', 'month_sep',\n",
       "       'poutcome_failure', 'poutcome_other', 'poutcome_success',\n",
       "       'poutcome_unknown'], dtype=object)"
      ]
     },
     "execution_count": 92,
     "metadata": {},
     "output_type": "execute_result"
    }
   ],
   "source": [
    "to_keep=[i for i in data_vars if i not in cat_vars]\n",
    "data_final=data[to_keep]\n",
    "data_final.loc[:,('target')] = data_final.loc[:,('target')].eq('yes').mul(1)\n",
    "data_final.columns.values"
   ]
  },
  {
   "cell_type": "markdown",
   "metadata": {},
   "source": [
    "### Define X and y Matrices"
   ]
  },
  {
   "cell_type": "code",
   "execution_count": 93,
   "metadata": {},
   "outputs": [
    {
     "name": "stdout",
     "output_type": "stream",
     "text": [
      "   age  balance  day  duration  campaign  pdays  previous  job_admin.  \\\n",
      "0   30     1787   19        79         1     -1         0           0   \n",
      "1   33     4789   11       220         1    339         4           0   \n",
      "2   35     1350   16       185         1    330         1           0   \n",
      "3   30     1476    3       199         4     -1         0           0   \n",
      "4   59        0    5       226         1     -1         0           0   \n",
      "\n",
      "   job_blue-collar  job_entrepreneur        ...         month_jun  month_mar  \\\n",
      "0                0                 0        ...                 0          0   \n",
      "1                0                 0        ...                 0          0   \n",
      "2                0                 0        ...                 0          0   \n",
      "3                0                 0        ...                 1          0   \n",
      "4                1                 0        ...                 0          0   \n",
      "\n",
      "   month_may  month_nov  month_oct  month_sep  poutcome_failure  \\\n",
      "0          0          0          1          0                 0   \n",
      "1          1          0          0          0                 1   \n",
      "2          0          0          0          0                 1   \n",
      "3          0          0          0          0                 0   \n",
      "4          1          0          0          0                 0   \n",
      "\n",
      "   poutcome_other  poutcome_success  poutcome_unknown  \n",
      "0               0                 0                 1  \n",
      "1               0                 0                 0  \n",
      "2               0                 0                 0  \n",
      "3               0                 0                 1  \n",
      "4               0                 0                 1  \n",
      "\n",
      "[5 rows x 51 columns]\n",
      "[0 0 0 ... 0 0 0]\n"
     ]
    }
   ],
   "source": [
    "import statsmodels.api as sm\n",
    "X = data_final.loc[:, data_final.columns != 'target']\n",
    "y = data_final.loc[:, data_final.columns == 'target']\n",
    "y = y.values.ravel()\n",
    "print(X.head())\n",
    "print(y)"
   ]
  },
  {
   "cell_type": "markdown",
   "metadata": {},
   "source": [
    "### Normalize Data"
   ]
  },
  {
   "cell_type": "code",
   "execution_count": 95,
   "metadata": {},
   "outputs": [
    {
     "name": "stderr",
     "output_type": "stream",
     "text": [
      "/Users/markmc/.pyenv/versions/fraud_detection/lib/python3.6/site-packages/sklearn/preprocessing/data.py:625: DataConversionWarning: Data with input dtype uint8, int64 were all converted to float64 by StandardScaler.\n",
      "  return self.partial_fit(X, y)\n"
     ]
    },
    {
     "data": {
      "text/plain": [
       "StandardScaler(copy=True, with_mean=True, with_std=True)"
      ]
     },
     "execution_count": 95,
     "metadata": {},
     "output_type": "execute_result"
    }
   ],
   "source": [
    "# Import module to standardize the scale\n",
    "from sklearn.preprocessing import StandardScaler\n",
    "# Create instance (i.e. object) of the standard scaler\n",
    "scaler = StandardScaler()\n",
    "scaler.fit(X)"
   ]
  },
  {
   "cell_type": "code",
   "execution_count": 96,
   "metadata": {},
   "outputs": [
    {
     "name": "stderr",
     "output_type": "stream",
     "text": [
      "/Users/markmc/.pyenv/versions/fraud_detection/lib/python3.6/site-packages/ipykernel_launcher.py:2: DataConversionWarning: Data with input dtype uint8, int64 were all converted to float64 by StandardScaler.\n",
      "  \n"
     ]
    }
   ],
   "source": [
    "# Use scaler object to conduct a transforms\n",
    "scaled_features = scaler.transform(X)"
   ]
  },
  {
   "cell_type": "code",
   "execution_count": 97,
   "metadata": {},
   "outputs": [
    {
     "data": {
      "text/html": [
       "<div>\n",
       "<style scoped>\n",
       "    .dataframe tbody tr th:only-of-type {\n",
       "        vertical-align: middle;\n",
       "    }\n",
       "\n",
       "    .dataframe tbody tr th {\n",
       "        vertical-align: top;\n",
       "    }\n",
       "\n",
       "    .dataframe thead th {\n",
       "        text-align: right;\n",
       "    }\n",
       "</style>\n",
       "<table border=\"1\" class=\"dataframe\">\n",
       "  <thead>\n",
       "    <tr style=\"text-align: right;\">\n",
       "      <th></th>\n",
       "      <th>0</th>\n",
       "      <th>1</th>\n",
       "      <th>2</th>\n",
       "      <th>3</th>\n",
       "      <th>4</th>\n",
       "      <th>5</th>\n",
       "      <th>6</th>\n",
       "      <th>7</th>\n",
       "      <th>8</th>\n",
       "      <th>9</th>\n",
       "      <th>...</th>\n",
       "      <th>41</th>\n",
       "      <th>42</th>\n",
       "      <th>43</th>\n",
       "      <th>44</th>\n",
       "      <th>45</th>\n",
       "      <th>46</th>\n",
       "      <th>47</th>\n",
       "      <th>48</th>\n",
       "      <th>49</th>\n",
       "      <th>50</th>\n",
       "    </tr>\n",
       "  </thead>\n",
       "  <tbody>\n",
       "    <tr>\n",
       "      <th>0</th>\n",
       "      <td>-1.056270</td>\n",
       "      <td>0.121072</td>\n",
       "      <td>0.374052</td>\n",
       "      <td>-0.711861</td>\n",
       "      <td>-0.576829</td>\n",
       "      <td>-0.407218</td>\n",
       "      <td>-0.320413</td>\n",
       "      <td>-0.343844</td>\n",
       "      <td>-0.514408</td>\n",
       "      <td>-0.196454</td>\n",
       "      <td>...</td>\n",
       "      <td>-0.364805</td>\n",
       "      <td>-0.104676</td>\n",
       "      <td>-0.669064</td>\n",
       "      <td>-0.306828</td>\n",
       "      <td>7.450671</td>\n",
       "      <td>-0.107869</td>\n",
       "      <td>-0.348652</td>\n",
       "      <td>-0.213447</td>\n",
       "      <td>-0.171381</td>\n",
       "      <td>0.469300</td>\n",
       "    </tr>\n",
       "    <tr>\n",
       "      <th>1</th>\n",
       "      <td>-0.772583</td>\n",
       "      <td>1.118644</td>\n",
       "      <td>-0.596026</td>\n",
       "      <td>-0.169194</td>\n",
       "      <td>-0.576829</td>\n",
       "      <td>2.989044</td>\n",
       "      <td>2.041734</td>\n",
       "      <td>-0.343844</td>\n",
       "      <td>-0.514408</td>\n",
       "      <td>-0.196454</td>\n",
       "      <td>...</td>\n",
       "      <td>-0.364805</td>\n",
       "      <td>-0.104676</td>\n",
       "      <td>1.494626</td>\n",
       "      <td>-0.306828</td>\n",
       "      <td>-0.134216</td>\n",
       "      <td>-0.107869</td>\n",
       "      <td>2.868193</td>\n",
       "      <td>-0.213447</td>\n",
       "      <td>-0.171381</td>\n",
       "      <td>-2.130831</td>\n",
       "    </tr>\n",
       "    <tr>\n",
       "      <th>2</th>\n",
       "      <td>-0.583458</td>\n",
       "      <td>-0.024144</td>\n",
       "      <td>0.010273</td>\n",
       "      <td>-0.303898</td>\n",
       "      <td>-0.576829</td>\n",
       "      <td>2.899143</td>\n",
       "      <td>0.270124</td>\n",
       "      <td>-0.343844</td>\n",
       "      <td>-0.514408</td>\n",
       "      <td>-0.196454</td>\n",
       "      <td>...</td>\n",
       "      <td>-0.364805</td>\n",
       "      <td>-0.104676</td>\n",
       "      <td>-0.669064</td>\n",
       "      <td>-0.306828</td>\n",
       "      <td>-0.134216</td>\n",
       "      <td>-0.107869</td>\n",
       "      <td>2.868193</td>\n",
       "      <td>-0.213447</td>\n",
       "      <td>-0.171381</td>\n",
       "      <td>-2.130831</td>\n",
       "    </tr>\n",
       "    <tr>\n",
       "      <th>3</th>\n",
       "      <td>-1.056270</td>\n",
       "      <td>0.017726</td>\n",
       "      <td>-1.566105</td>\n",
       "      <td>-0.250017</td>\n",
       "      <td>0.387967</td>\n",
       "      <td>-0.407218</td>\n",
       "      <td>-0.320413</td>\n",
       "      <td>-0.343844</td>\n",
       "      <td>-0.514408</td>\n",
       "      <td>-0.196454</td>\n",
       "      <td>...</td>\n",
       "      <td>2.741190</td>\n",
       "      <td>-0.104676</td>\n",
       "      <td>-0.669064</td>\n",
       "      <td>-0.306828</td>\n",
       "      <td>-0.134216</td>\n",
       "      <td>-0.107869</td>\n",
       "      <td>-0.348652</td>\n",
       "      <td>-0.213447</td>\n",
       "      <td>-0.171381</td>\n",
       "      <td>0.469300</td>\n",
       "    </tr>\n",
       "    <tr>\n",
       "      <th>4</th>\n",
       "      <td>1.686036</td>\n",
       "      <td>-0.472753</td>\n",
       "      <td>-1.323585</td>\n",
       "      <td>-0.146102</td>\n",
       "      <td>-0.576829</td>\n",
       "      <td>-0.407218</td>\n",
       "      <td>-0.320413</td>\n",
       "      <td>-0.343844</td>\n",
       "      <td>1.943983</td>\n",
       "      <td>-0.196454</td>\n",
       "      <td>...</td>\n",
       "      <td>-0.364805</td>\n",
       "      <td>-0.104676</td>\n",
       "      <td>1.494626</td>\n",
       "      <td>-0.306828</td>\n",
       "      <td>-0.134216</td>\n",
       "      <td>-0.107869</td>\n",
       "      <td>-0.348652</td>\n",
       "      <td>-0.213447</td>\n",
       "      <td>-0.171381</td>\n",
       "      <td>0.469300</td>\n",
       "    </tr>\n",
       "  </tbody>\n",
       "</table>\n",
       "<p>5 rows × 51 columns</p>\n",
       "</div>"
      ],
      "text/plain": [
       "         0         1         2         3         4         5         6   \\\n",
       "0 -1.056270  0.121072  0.374052 -0.711861 -0.576829 -0.407218 -0.320413   \n",
       "1 -0.772583  1.118644 -0.596026 -0.169194 -0.576829  2.989044  2.041734   \n",
       "2 -0.583458 -0.024144  0.010273 -0.303898 -0.576829  2.899143  0.270124   \n",
       "3 -1.056270  0.017726 -1.566105 -0.250017  0.387967 -0.407218 -0.320413   \n",
       "4  1.686036 -0.472753 -1.323585 -0.146102 -0.576829 -0.407218 -0.320413   \n",
       "\n",
       "         7         8         9     ...           41        42        43  \\\n",
       "0 -0.343844 -0.514408 -0.196454    ...    -0.364805 -0.104676 -0.669064   \n",
       "1 -0.343844 -0.514408 -0.196454    ...    -0.364805 -0.104676  1.494626   \n",
       "2 -0.343844 -0.514408 -0.196454    ...    -0.364805 -0.104676 -0.669064   \n",
       "3 -0.343844 -0.514408 -0.196454    ...     2.741190 -0.104676 -0.669064   \n",
       "4 -0.343844  1.943983 -0.196454    ...    -0.364805 -0.104676  1.494626   \n",
       "\n",
       "         44        45        46        47        48        49        50  \n",
       "0 -0.306828  7.450671 -0.107869 -0.348652 -0.213447 -0.171381  0.469300  \n",
       "1 -0.306828 -0.134216 -0.107869  2.868193 -0.213447 -0.171381 -2.130831  \n",
       "2 -0.306828 -0.134216 -0.107869  2.868193 -0.213447 -0.171381 -2.130831  \n",
       "3 -0.306828 -0.134216 -0.107869 -0.348652 -0.213447 -0.171381  0.469300  \n",
       "4 -0.306828 -0.134216 -0.107869 -0.348652 -0.213447 -0.171381  0.469300  \n",
       "\n",
       "[5 rows x 51 columns]"
      ]
     },
     "execution_count": 97,
     "metadata": {},
     "output_type": "execute_result"
    }
   ],
   "source": [
    "X = pd.DataFrame(scaled_features)\n",
    "X.head()"
   ]
  },
  {
   "cell_type": "markdown",
   "metadata": {},
   "source": [
    "### Split Training and Test Set"
   ]
  },
  {
   "cell_type": "code",
   "execution_count": 98,
   "metadata": {},
   "outputs": [],
   "source": [
    "X_train, X_test, y_train, y_test = train_test_split(X, y, test_size=0.3, random_state=0)"
   ]
  },
  {
   "cell_type": "code",
   "execution_count": 99,
   "metadata": {},
   "outputs": [],
   "source": [
    "from sklearn.svm import SVC # \"Support vector classifier\""
   ]
  },
  {
   "cell_type": "markdown",
   "metadata": {},
   "source": [
    "### Train SVC Model"
   ]
  },
  {
   "cell_type": "markdown",
   "metadata": {},
   "source": [
    "Linear kernel is used here as n (number of examples) is large compred to m (number of features).\n",
    "Large C is used as initial estimate."
   ]
  },
  {
   "cell_type": "code",
   "execution_count": 102,
   "metadata": {},
   "outputs": [
    {
     "data": {
      "text/plain": [
       "SVC(C=50, cache_size=200, class_weight=None, coef0=0.0,\n",
       "  decision_function_shape='ovr', degree=3, gamma=0.0005, kernel='rbf',\n",
       "  max_iter=-1, probability=False, random_state=None, shrinking=True,\n",
       "  tol=0.001, verbose=False)"
      ]
     },
     "execution_count": 102,
     "metadata": {},
     "output_type": "execute_result"
    }
   ],
   "source": [
    "model = SVC(kernel='rbf', gamma=0.0005, C=50)\n",
    "model.fit(X, y)"
   ]
  },
  {
   "cell_type": "code",
   "execution_count": 101,
   "metadata": {},
   "outputs": [
    {
     "name": "stdout",
     "output_type": "stream",
     "text": [
      "CPU times: user 14.4 s, sys: 118 ms, total: 14.6 s\n",
      "Wall time: 15.1 s\n",
      "{'C': 50, 'gamma': 0.0005}\n"
     ]
    }
   ],
   "source": [
    "from sklearn.model_selection import GridSearchCV\n",
    "param_grid = {'C': [0.1, 1, 5, 10, 50],\n",
    "              'gamma': [0.00001, 0.0001, 0.0005, 0.001, 0.005]}\n",
    "grid = GridSearchCV(model, param_grid, cv=3)\n",
    "grid.get_params().keys()\n",
    "%time grid.fit(X_train, y_train)\n",
    "print(grid.best_params_)"
   ]
  },
  {
   "cell_type": "markdown",
   "metadata": {},
   "source": [
    "### Generate Predictions"
   ]
  },
  {
   "cell_type": "code",
   "execution_count": 103,
   "metadata": {},
   "outputs": [],
   "source": [
    "model = grid.best_estimator_\n",
    "y_pred = model.predict(X_test)"
   ]
  },
  {
   "cell_type": "markdown",
   "metadata": {},
   "source": [
    "### Precision and Recall on Test Data"
   ]
  },
  {
   "cell_type": "code",
   "execution_count": 104,
   "metadata": {},
   "outputs": [],
   "source": [
    "from sklearn.metrics import confusion_matrix\n",
    "cmat = confusion_matrix(y_test, y_pred)"
   ]
  },
  {
   "cell_type": "code",
   "execution_count": 105,
   "metadata": {},
   "outputs": [
    {
     "name": "stdout",
     "output_type": "stream",
     "text": [
      "TP - True Negative 1179\n",
      "FP - False Positive 11\n",
      "FN - False Negative 139\n",
      "TP - True Positive 28\n",
      "Accuracy Rate: 0.8894620486366986\n",
      "Misclassification Rate: 0.1105379513633014\n"
     ]
    }
   ],
   "source": [
    "#print(cmat)\n",
    "print('TP - True Negative {}'.format(cmat[0,0]))\n",
    "print('FP - False Positive {}'.format(cmat[0,1]))\n",
    "print('FN - False Negative {}'.format(cmat[1,0]))\n",
    "print('TP - True Positive {}'.format(cmat[1,1]))\n",
    "print('Accuracy Rate: {}'.format(np.divide(np.sum([cmat[0,0],cmat[1,1]]),np.sum(cmat))))\n",
    "print('Misclassification Rate: {}'.format(np.divide(np.sum([cmat[0,1],cmat[1,0]]),np.sum(cmat))))"
   ]
  },
  {
   "cell_type": "code",
   "execution_count": 106,
   "metadata": {},
   "outputs": [
    {
     "name": "stdout",
     "output_type": "stream",
     "text": [
      "              precision    recall  f1-score   support\n",
      "\n",
      "           0       0.89      0.99      0.94      1190\n",
      "           1       0.72      0.17      0.27       167\n",
      "\n",
      "   micro avg       0.89      0.89      0.89      1357\n",
      "   macro avg       0.81      0.58      0.61      1357\n",
      "weighted avg       0.87      0.89      0.86      1357\n",
      "\n"
     ]
    }
   ],
   "source": [
    "from sklearn.metrics import classification_report\n",
    "print(classification_report(y_test, y_pred))"
   ]
  },
  {
   "cell_type": "markdown",
   "metadata": {},
   "source": [
    "$Precision = \\frac{True Positive}{True Positive + False Positive}$      $Recall = \\frac{True Positive}{True Positive + False Negative}$"
   ]
  },
  {
   "cell_type": "markdown",
   "metadata": {},
   "source": [
    "### Conclusion"
   ]
  },
  {
   "cell_type": "markdown",
   "metadata": {},
   "source": [
    "The original data-set had 4521 targets with 4000 negative and 521 positive.\n",
    "\n",
    "The test data contained 1357 data points, with 1190 being negative and 167 being positive.\n",
    "A precision of 72% on test data indicates that the model performs fairly when predicting that a particular customer will accept an offer. The model unfortunately eliminates a high number of potential customers, with a low recall of only 17% on test data.\n",
    "\n",
    "The model could be improved through feature engineering and SMOTE sampling application to balance the dataset.\n",
    "Further, an investigation into bais and variance could be conducted.\n",
    "Lastly, a cross-validation set could be utilised to avoid overfitting and poor generalisation for unseen test data."
   ]
  }
 ],
 "metadata": {
  "kernelspec": {
   "display_name": "Python 3",
   "language": "python",
   "name": "python3"
  },
  "language_info": {
   "codemirror_mode": {
    "name": "ipython",
    "version": 3
   },
   "file_extension": ".py",
   "mimetype": "text/x-python",
   "name": "python",
   "nbconvert_exporter": "python",
   "pygments_lexer": "ipython3",
   "version": "3.6.2"
  }
 },
 "nbformat": 4,
 "nbformat_minor": 2
}
